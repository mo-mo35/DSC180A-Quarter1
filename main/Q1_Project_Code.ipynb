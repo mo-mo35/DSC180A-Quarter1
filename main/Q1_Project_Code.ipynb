{
 "cells": [
  {
   "cell_type": "code",
   "execution_count": 9,
   "metadata": {},
   "outputs": [],
   "source": [
    "import numpy as np\n",
    "from scipy.stats import multivariate_normal\n",
    "from scipy.spatial.distance import cdist"
   ]
  },
  {
   "cell_type": "code",
   "execution_count": 10,
   "metadata": {},
   "outputs": [],
   "source": [
    "# Set dimensions\n",
    "K1 = 1  # Number of observations for Group 1\n",
    "K2 = 1  # Number of observations for Group 2\n",
    "K = K1 + K2  # Total number of observations\n",
    "D = 6  # Total latent dimensions\n",
    "T = 50  # Number of time points\n",
    "t = np.linspace(0, 10, T)  # Time intervals\n",
    "\n",
    "# Partition D into shared and independent parts\n",
    "d_s = 2  # Shared latent dimension\n",
    "d_1 = 2  # Independent latent dimension for group 1\n",
    "d_2 = 2  # Independent latent dimension for group 2\n",
    "\n",
    "# Pick hyperparameters\n",
    "rho = 1.0  # Scale for GP kernel\n",
    "l = 1.0  # Length scale for GP kernel\n",
    "nu = 0.1  # Noise variance for observations"
   ]
  },
  {
   "cell_type": "code",
   "execution_count": 28,
   "metadata": {},
   "outputs": [
    {
     "name": "stdout",
     "output_type": "stream",
     "text": [
      "(2, 6)\n"
     ]
    },
    {
     "data": {
      "text/plain": [
       "array([[ 0.61305669, -1.58412279,  0.85990261,  2.76702061,  0.        ,\n",
       "         0.        ],\n",
       "       [ 0.66647931, -1.2414752 ,  0.        ,  0.        , -0.43058378,\n",
       "        -0.23816071]])"
      ]
     },
     "execution_count": 28,
     "metadata": {},
     "output_type": "execute_result"
    }
   ],
   "source": [
    "# Define factor loadings\n",
    "A_1 = np.random.randn(K1, d_1)  # Group 1 independent loadings\n",
    "A_2 = np.random.randn(K2, d_2)  # Group 2 independent loadings\n",
    "A_s1 = np.random.randn(K1, d_s)  # Group 1 shared loadings\n",
    "A_s2 = np.random.randn(K2, d_s)  # Group 2 shared loadings\n",
    "\n",
    "# Combine into block matrix\n",
    "A = np.block([[A_s1, A_1, np.zeros((K1, d_2))],  # Group 1\n",
    "              [A_s2, np.zeros((K2, d_1)), A_2]])  # Group 2\n",
    "\n",
    "print(A.shape)  # Should be (K, D), i.e., (2, 6)\n",
    "A"
   ]
  },
  {
   "cell_type": "code",
   "execution_count": 29,
   "metadata": {},
   "outputs": [
    {
     "name": "stdout",
     "output_type": "stream",
     "text": [
      "(50, 6)\n"
     ]
    }
   ],
   "source": [
    "# Generate latent variables (z)\n",
    "def kernel_function(t1, t2, rho, l):\n",
    "    \"\"\"Squared exponential kernel.\"\"\"\n",
    "    dist_sq = cdist(t1.reshape(-1, 1), t2.reshape(-1, 1), metric='sqeuclidean')\n",
    "    return rho * np.exp(-dist_sq / (2 * l ** 2))\n",
    "\n",
    "# Create kernel matrix for GP\n",
    "K_t = kernel_function(t, t, rho, l)\n",
    "\n",
    "# Draw latent variables for each group and shared part\n",
    "z_shared = np.random.multivariate_normal(np.zeros(T), K_t, size=d_s).T  # Shared\n",
    "z_1 = np.random.multivariate_normal(np.zeros(T), K_t, size=d_1).T  # Group 1\n",
    "z_2 = np.random.multivariate_normal(np.zeros(T), K_t, size=d_2).T  # Group 2\n",
    "\n",
    "# Combine all latent variables into one matrix\n",
    "Z = np.hstack([z_shared, z_1, z_2])  # Shape (T, D)\n",
    "print(Z.shape)"
   ]
  },
  {
   "cell_type": "code",
   "execution_count": 30,
   "metadata": {},
   "outputs": [],
   "source": [
    "# Generate observations (x)\n",
    "E = np.random.multivariate_normal(np.zeros(K), nu * np.eye(K), size=T)  # Noise\n",
    "X = Z @ A.T + E  # Shape (T, K)"
   ]
  },
  {
   "cell_type": "code",
   "execution_count": 31,
   "metadata": {},
   "outputs": [],
   "source": [
    "# Generate spike observations (y)\n",
    "# Poisson lambda is exp(X)\n",
    "Lambda = np.exp(X)\n",
    "Y = np.random.poisson(Lambda)  # Spike observations\n"
   ]
  },
  {
   "cell_type": "code",
   "execution_count": 32,
   "metadata": {},
   "outputs": [
    {
     "name": "stdout",
     "output_type": "stream",
     "text": [
      "Latent variables (Z): (50, 6)\n",
      "Observations (X): (50, 2)\n",
      "Spike observations (Y): (50, 2)\n"
     ]
    }
   ],
   "source": [
    "print(\"Latent variables (Z):\", Z.shape)\n",
    "print(\"Observations (X):\", X.shape)\n",
    "print(\"Spike observations (Y):\", Y.shape)"
   ]
  },
  {
   "cell_type": "code",
   "execution_count": null,
   "metadata": {},
   "outputs": [],
   "source": []
  }
 ],
 "metadata": {
  "kernelspec": {
   "display_name": "ibl",
   "language": "python",
   "name": "python3"
  },
  "language_info": {
   "codemirror_mode": {
    "name": "ipython",
    "version": 3
   },
   "file_extension": ".py",
   "mimetype": "text/x-python",
   "name": "python",
   "nbconvert_exporter": "python",
   "pygments_lexer": "ipython3",
   "version": "3.11.10"
  },
  "orig_nbformat": 4,
  "vscode": {
   "interpreter": {
    "hash": "6dc0d9d8fdb537e6e00c781bf3f4291d015dadc6704bd51ac642bde313baeb9c"
   }
  }
 },
 "nbformat": 4,
 "nbformat_minor": 2
}
